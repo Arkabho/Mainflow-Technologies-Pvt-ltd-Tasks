{
  "nbformat": 4,
  "nbformat_minor": 0,
  "metadata": {
    "colab": {
      "provenance": []
    },
    "kernelspec": {
      "name": "python3",
      "display_name": "Python 3"
    },
    "language_info": {
      "name": "python"
    }
  },
  "cells": [
    {
      "cell_type": "code",
      "execution_count": null,
      "metadata": {
        "id": "w3XOE2-daF17"
      },
      "outputs": [],
      "source": []
    },
    {
      "cell_type": "markdown",
      "source": [
        "Understanding Python Data Types :-\n",
        "\n",
        "Description :-   \n",
        "This task involves understanding the basic data types in Python such as list, dictionaries, and sets.\n",
        "\n",
        "Responsibility :-   \n",
        "Write a Python Program to create a list, a dictionary, and a set. Perform basic operations like adding, removing, and modifying elements."
      ],
      "metadata": {
        "id": "Kb7dlqujbxzh"
      }
    },
    {
      "cell_type": "code",
      "source": [
        "Python_list = [1,3,5,7,10,12,15]\n",
        "\n",
        "# Adding elements in a List\n",
        "Python_list.append(20)\n",
        "\n",
        "# Removing elements from a List\n",
        "Python_list.remove(5)\n",
        "\n",
        "# Modifiying elements in a List\n",
        "Python_list[1] = 6\n",
        "\n",
        "print(Python_list)"
      ],
      "metadata": {
        "colab": {
          "base_uri": "https://localhost:8080/"
        },
        "id": "Wrj1YFdncV5Y",
        "outputId": "885bfcf1-3d59-4101-ab67-53a0ba0ff38d"
      },
      "execution_count": 1,
      "outputs": [
        {
          "output_type": "stream",
          "name": "stdout",
          "text": [
            "[1, 6, 7, 10, 12, 15, 20]\n"
          ]
        }
      ]
    },
    {
      "cell_type": "markdown",
      "source": [
        "Using Functional Notation :-   "
      ],
      "metadata": {
        "id": "QlH0sn4oiDn-"
      }
    },
    {
      "cell_type": "code",
      "source": [
        "def Python_list(lst) -> list:\n",
        "  # Adding elements in a List\n",
        "  lst.append(20)\n",
        "\n",
        "  # Removing elements in a List\n",
        "  lst.remove(5)\n",
        "\n",
        "  # Modifying elements of a List\n",
        "  lst[1] = 6\n",
        "\n",
        "  return lst\n",
        "\n"
      ],
      "metadata": {
        "id": "Ini7Z0YfgRjX"
      },
      "execution_count": 3,
      "outputs": []
    },
    {
      "cell_type": "code",
      "source": [
        "python_list = [1,3,5,7,10,12,15]\n",
        "\n",
        "Python_list(python_list)\n"
      ],
      "metadata": {
        "colab": {
          "base_uri": "https://localhost:8080/"
        },
        "id": "E6muulbBhlPU",
        "outputId": "6800fcff-8a37-48b0-c5f9-2bf355d2e569"
      },
      "execution_count": 4,
      "outputs": [
        {
          "output_type": "execute_result",
          "data": {
            "text/plain": [
              "[1, 6, 7, 10, 12, 15, 20]"
            ]
          },
          "metadata": {},
          "execution_count": 4
        }
      ]
    },
    {
      "cell_type": "code",
      "source": [
        "Python_dict = {'Name':'Bitan','Age':29,'Gender':'Male','Course':'Data Analysis with Python'}\n",
        "\n",
        "# Adding elements inside a Dictionary\n",
        "Python_dict['State'] = 'West Bengal'\n",
        "\n",
        "# Removing elements from a Dictionary\n",
        "del(Python_dict['Course'])\n",
        "\n",
        "# Modifying elements of a Dictionary\n",
        "Python_dict['Name'] = 'Biswas'\n",
        "\n",
        "print(Python_dict)\n"
      ],
      "metadata": {
        "colab": {
          "base_uri": "https://localhost:8080/"
        },
        "id": "aPzyU6qJh-JL",
        "outputId": "def1d19f-98b9-4311-b93d-51426ef9d68e"
      },
      "execution_count": 5,
      "outputs": [
        {
          "output_type": "stream",
          "name": "stdout",
          "text": [
            "{'Name': 'Biswas', 'Age': 29, 'Gender': 'Male', 'State': 'West Bengal'}\n"
          ]
        }
      ]
    },
    {
      "cell_type": "markdown",
      "source": [
        "Using Functional Notation :-"
      ],
      "metadata": {
        "id": "q972Hn54k-mn"
      }
    },
    {
      "cell_type": "code",
      "source": [
        "def Python_dict(dicts) -> dict():\n",
        "  # Adding elements inside a Dictionary\n",
        "  dicts['State'] = 'West Bengal'\n",
        "\n",
        "  # Removing elements from a Dictionary\n",
        "  del(dicts['Course'])\n",
        "\n",
        "  # Modifying elements of a Dictionary\n",
        "  dicts['Name'] = 'Biswas'\n",
        "\n",
        "  return dicts"
      ],
      "metadata": {
        "id": "5kjbkQEZlA_q"
      },
      "execution_count": 6,
      "outputs": []
    },
    {
      "cell_type": "code",
      "source": [
        "python_dict = {'Name':'Bitan','Age':29,'Gender':'Male','Course':'Data Analysis with Python'}\n",
        "\n",
        "Python_dict(python_dict)"
      ],
      "metadata": {
        "colab": {
          "base_uri": "https://localhost:8080/"
        },
        "id": "qSXk6maAmb8w",
        "outputId": "f480ce44-4c5e-47ff-ea16-072261344555"
      },
      "execution_count": 7,
      "outputs": [
        {
          "output_type": "execute_result",
          "data": {
            "text/plain": [
              "{'Name': 'Biswas', 'Age': 29, 'Gender': 'Male', 'State': 'West Bengal'}"
            ]
          },
          "metadata": {},
          "execution_count": 7
        }
      ]
    },
    {
      "cell_type": "code",
      "source": [
        "Python_set = {1,3,5,7,10}\n",
        "\n",
        "# Adding elements in a Set\n",
        "Python_set.add(15)\n",
        "\n",
        "# Removing elements from a Set\n",
        "Python_set.remove(7)\n",
        "\n",
        "# Modifying elements of a Set\n",
        "Python_set.update({8,9})\n",
        "\n",
        "print(Python_set)\n"
      ],
      "metadata": {
        "colab": {
          "base_uri": "https://localhost:8080/"
        },
        "id": "H9W5znVYmoOJ",
        "outputId": "7c64f038-c933-40cf-f298-711196e47c12"
      },
      "execution_count": 9,
      "outputs": [
        {
          "output_type": "stream",
          "name": "stdout",
          "text": [
            "{1, 3, 5, 8, 9, 10, 15}\n"
          ]
        }
      ]
    },
    {
      "cell_type": "markdown",
      "source": [
        "Using Functional Notation :-   "
      ],
      "metadata": {
        "id": "1hIR_EPuoWex"
      }
    },
    {
      "cell_type": "code",
      "source": [
        "def Python_set(st) -> set():\n",
        "  # Adding elements in a Set\n",
        "  st.add(15)\n",
        "\n",
        "  # Removing elements from a Set\n",
        "  st.remove(7)\n",
        "\n",
        "  # Modifying elements of a Set\n",
        "  st.update({8,9})\n",
        "\n",
        "  return st"
      ],
      "metadata": {
        "id": "SA48lao8nO0c"
      },
      "execution_count": 10,
      "outputs": []
    },
    {
      "cell_type": "code",
      "source": [
        "python_set = {1,3,5,7,10}\n",
        "Python_set(python_set)"
      ],
      "metadata": {
        "colab": {
          "base_uri": "https://localhost:8080/"
        },
        "id": "DJHrg3KTo1jC",
        "outputId": "e26f8484-4334-48c3-9f2d-c7a9523cacf1"
      },
      "execution_count": 11,
      "outputs": [
        {
          "output_type": "execute_result",
          "data": {
            "text/plain": [
              "{1, 3, 5, 8, 9, 10, 15}"
            ]
          },
          "metadata": {},
          "execution_count": 11
        }
      ]
    },
    {
      "cell_type": "code",
      "source": [],
      "metadata": {
        "id": "6COTXMt3o-4i"
      },
      "execution_count": null,
      "outputs": []
    }
  ]
}